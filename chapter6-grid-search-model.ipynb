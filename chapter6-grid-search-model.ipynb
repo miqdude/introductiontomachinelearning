{
 "metadata": {
  "language_info": {
   "codemirror_mode": {
    "name": "ipython",
    "version": 3
   },
   "file_extension": ".py",
   "mimetype": "text/x-python",
   "name": "python",
   "nbconvert_exporter": "python",
   "pygments_lexer": "ipython3",
   "version": "3.7.7-final"
  },
  "orig_nbformat": 2,
  "kernelspec": {
   "name": "python_defaultSpec_1598618132910",
   "display_name": "Python 3.7.7 64-bit ('datascience': conda)"
  }
 },
 "nbformat": 4,
 "nbformat_minor": 2,
 "cells": [
  {
   "cell_type": "markdown",
   "metadata": {},
   "source": [
    "# Grid Seach which Model to Use"
   ]
  },
  {
   "cell_type": "code",
   "execution_count": 3,
   "metadata": {
    "tags": []
   },
   "outputs": [
    {
     "output_type": "stream",
     "name": "stdout",
     "text": "Fitting 5 folds for each of 75 candidates, totalling 375 fits\n[Parallel(n_jobs=-1)]: Using backend LokyBackend with 8 concurrent workers.\n[Parallel(n_jobs=-1)]: Done  56 tasks      | elapsed:    0.3s\nBest params {'classifier': SVC(C=10, gamma=0.1), 'classifier__C': 10, 'classifier__gamma': 0.1, 'preprocessing': None}\nBest cross validation score 0.9731225296442687\nTest data score 0.9910714285714286\n[Parallel(n_jobs=-1)]: Done 375 out of 375 | elapsed:    2.5s finished\n"
    }
   ],
   "source": [
    "from sklearn.datasets import load_iris\n",
    "from sklearn.model_selection import GridSearchCV\n",
    "from sklearn.pipeline import Pipeline\n",
    "from sklearn.svm import SVC\n",
    "from sklearn.preprocessing import StandardScaler\n",
    "from sklearn.ensemble import RandomForestClassifier\n",
    "from sklearn.model_selection import train_test_split\n",
    "\n",
    "iris = load_iris()\n",
    "X_train, X_test, y_train, y_test = train_test_split(iris.data, iris.target, random_state=0)\n",
    "\n",
    "param_grid = [\n",
    "    {'classifier': [SVC()], 'preprocessing': [StandardScaler(), None],\n",
    "    'classifier__gamma': [0.001, 0.01, 0.1, 1, 10, 100],\n",
    "    'classifier__C': [0.001, 0.01, 0.1, 1, 10, 100]\n",
    "    },\n",
    "    {'classifier': [RandomForestClassifier()], 'preprocessing': [None],\n",
    "    'classifier__max_features': [1, 2, 3]\n",
    "    }\n",
    "]\n",
    "\n",
    "pipeline = Pipeline([('preprocessing', StandardScaler()), ('classifier', SVC())])\n",
    "grid = GridSearchCV(pipeline, param_grid, cv=5, n_jobs=-1, verbose=1)\n",
    "grid.fit(X_train, y_train)\n",
    "\n",
    "# print the results\n",
    "print(\"Best params {}\".format(grid.best_params_))\n",
    "print(\"Best cross validation score {}\".format(grid.best_score_))\n",
    "print(\"Test data score {}\".format(grid.score(X_train, y_train)))"
   ]
  }
 ]
}