{
 "cells": [
  {
   "cell_type": "code",
   "execution_count": 3,
   "metadata": {
    "tags": []
   },
   "outputs": [
    {
     "output_type": "stream",
     "name": "stdout",
     "text": "Gaussian Naive Bayes Train score : 0.9366197183098591\nGaussian Naive Bayes Test score : 0.958041958041958\n"
    }
   ],
   "source": [
    "from sklearn.naive_bayes import GaussianNB\n",
    "from sklearn.datasets import load_breast_cancer\n",
    "from sklearn.model_selection import train_test_split\n",
    "\n",
    "cancerData = load_breast_cancer()\n",
    "X_train, X_test, y_train, y_test = train_test_split(cancerData.data, cancerData.target, random_state=42)\n",
    "\n",
    "gaussianNBClassfier = GaussianNB()\n",
    "gaussianNBClassfier.fit(X_train, y_train)\n",
    "print(\"Gaussian Naive Bayes Train score : {}\".format(gaussianNBClassfier.score(X_train, y_train)))\n",
    "print(\"Gaussian Naive Bayes Test score : {}\".format(gaussianNBClassfier.score(X_test, y_test)))"
   ]
  }
 ],
 "metadata": {
  "language_info": {
   "codemirror_mode": {
    "name": "ipython",
    "version": 3
   },
   "file_extension": ".py",
   "mimetype": "text/x-python",
   "name": "python",
   "nbconvert_exporter": "python",
   "pygments_lexer": "ipython3",
   "version": 3
  },
  "orig_nbformat": 2,
  "kernelspec": {
   "name": "python_defaultSpec_1597141065601",
   "display_name": "Python 3.7.7 64-bit"
  }
 },
 "nbformat": 4,
 "nbformat_minor": 2
}